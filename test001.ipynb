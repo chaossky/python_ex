{
 "metadata": {
  "language_info": {
   "codemirror_mode": {
    "name": "ipython",
    "version": 3
   },
   "file_extension": ".py",
   "mimetype": "text/x-python",
   "name": "python",
   "nbconvert_exporter": "python",
   "pygments_lexer": "ipython3",
   "version": "3.9.4"
  },
  "orig_nbformat": 2,
  "kernelspec": {
   "name": "python394jvsc74a57bd0fccf2f82b4ab0b939a08d0ba4940d69d13669f3df66f15a37bffdf595256dca3",
   "display_name": "Python 3.9.4 64-bit"
  },
  "metadata": {
   "interpreter": {
    "hash": "fccf2f82b4ab0b939a08d0ba4940d69d13669f3df66f15a37bffdf595256dca3"
   }
  }
 },
 "nbformat": 4,
 "nbformat_minor": 2,
 "cells": [
  {
   "cell_type": "code",
   "execution_count": 1,
   "metadata": {},
   "outputs": [],
   "source": [
    "a=['이름','국어','영어','수학']\n",
    "b=['서수민',90,98,87]\n",
    "c=['강정민',88,12,34]\n",
    "d=['고령당',90,87,67]\n",
    "my_list=[a,b,c,d]\n"
   ]
  },
  {
   "cell_type": "code",
   "execution_count": 3,
   "metadata": {},
   "outputs": [
    {
     "output_type": "execute_result",
     "data": {
      "text/plain": [
       "[['이름', '국어', '영어', '수학'],\n",
       " ['서수민', 90, 98, 87],\n",
       " ['강정민', 88, 12, 34],\n",
       " ['고령당', 90, 87, 67]]"
      ]
     },
     "metadata": {},
     "execution_count": 3
    }
   ],
   "source": [
    "my_list"
   ]
  },
  {
   "cell_type": "code",
   "execution_count": null,
   "metadata": {},
   "outputs": [],
   "source": []
  }
 ]
}